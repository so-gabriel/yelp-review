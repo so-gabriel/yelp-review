{
 "cells": [
  {
   "cell_type": "code",
   "execution_count": 27,
   "metadata": {
    "ExecuteTime": {
     "end_time": "2018-07-26T15:36:20.375121Z",
     "start_time": "2018-07-26T15:36:20.351730Z"
    }
   },
   "outputs": [],
   "source": [
    "import numpy as np\n",
    "import pandas as pd\n",
    "import seaborn as sns\n",
    "from scipy import stats\n",
    "import matplotlib.pyplot as plt\n",
    "import statsmodels.api as sm\n",
    "from sqlalchemy import create_engine\n",
    "\n",
    "%matplotlib inline\n",
    "plt.rcParams['figure.figsize'] = (10, 8)"
   ]
  },
  {
   "cell_type": "code",
   "execution_count": 2,
   "metadata": {
    "ExecuteTime": {
     "end_time": "2018-07-26T15:33:01.758799Z",
     "start_time": "2018-07-26T15:33:01.629722Z"
    }
   },
   "outputs": [],
   "source": [
    "# Set your local datbase parameters \n",
    "db_username = 'root'\n",
    "db_password = 'mypassword'\n",
    "host = '127.0.0.1'\n",
    "port = '3306'\n",
    "db_name = 'yelp_db'\n",
    "\n",
    "# Create a MySQLEngine\n",
    "engine = create_engine('mysql+mysqldb://'+db_username+':'+db_password+'@\\\n",
    "'+host+':'+port+'/'+db_name)\n",
    "\n",
    "# Connect to database\n",
    "engine.connect();"
   ]
  },
  {
   "cell_type": "code",
   "execution_count": 3,
   "metadata": {
    "ExecuteTime": {
     "end_time": "2018-07-26T15:33:34.630961Z",
     "start_time": "2018-07-26T15:33:01.761050Z"
    }
   },
   "outputs": [],
   "source": [
    "bid_stars = pd.read_sql(\"\"\" SELECT business_id, stars FROM review\"\"\", engine)"
   ]
  },
  {
   "cell_type": "code",
   "execution_count": 4,
   "metadata": {
    "ExecuteTime": {
     "end_time": "2018-07-26T15:33:34.704550Z",
     "start_time": "2018-07-26T15:33:34.633419Z"
    }
   },
   "outputs": [
    {
     "data": {
      "text/plain": [
       "5    2253348\n",
       "4    1223316\n",
       "1     731363\n",
       "3     615481\n",
       "2     438161\n",
       "Name: stars, dtype: int64"
      ]
     },
     "execution_count": 4,
     "metadata": {},
     "output_type": "execute_result"
    }
   ],
   "source": [
    "bid_stars['stars'].value_counts()"
   ]
  },
  {
   "cell_type": "code",
   "execution_count": 5,
   "metadata": {
    "ExecuteTime": {
     "end_time": "2018-07-26T15:33:36.625829Z",
     "start_time": "2018-07-26T15:33:34.707209Z"
    }
   },
   "outputs": [],
   "source": [
    "bid_stars_means = bid_stars.groupby('business_id').mean()"
   ]
  },
  {
   "cell_type": "code",
   "execution_count": 6,
   "metadata": {
    "ExecuteTime": {
     "end_time": "2018-07-26T15:33:36.642729Z",
     "start_time": "2018-07-26T15:33:36.628015Z"
    }
   },
   "outputs": [
    {
     "data": {
      "text/html": [
       "<div>\n",
       "<style scoped>\n",
       "    .dataframe tbody tr th:only-of-type {\n",
       "        vertical-align: middle;\n",
       "    }\n",
       "\n",
       "    .dataframe tbody tr th {\n",
       "        vertical-align: top;\n",
       "    }\n",
       "\n",
       "    .dataframe thead th {\n",
       "        text-align: right;\n",
       "    }\n",
       "</style>\n",
       "<table border=\"1\" class=\"dataframe\">\n",
       "  <thead>\n",
       "    <tr style=\"text-align: right;\">\n",
       "      <th></th>\n",
       "      <th>stars</th>\n",
       "    </tr>\n",
       "    <tr>\n",
       "      <th>business_id</th>\n",
       "      <th></th>\n",
       "    </tr>\n",
       "  </thead>\n",
       "  <tbody>\n",
       "    <tr>\n",
       "      <th>--6MefnULPED_I942VcFNA</th>\n",
       "      <td>3.135135</td>\n",
       "    </tr>\n",
       "    <tr>\n",
       "      <th>--7zmmkVg-IMGaXbuVd0SQ</th>\n",
       "      <td>3.851064</td>\n",
       "    </tr>\n",
       "    <tr>\n",
       "      <th>--8LPVSo5i0Oo61X01sV9A</th>\n",
       "      <td>4.333333</td>\n",
       "    </tr>\n",
       "    <tr>\n",
       "      <th>--9QQLMTbFzLJ_oT-ON3Xw</th>\n",
       "      <td>3.363636</td>\n",
       "    </tr>\n",
       "    <tr>\n",
       "      <th>--9e1ONYQuAa-CB_Rrw7Tw</th>\n",
       "      <td>4.088904</td>\n",
       "    </tr>\n",
       "  </tbody>\n",
       "</table>\n",
       "</div>"
      ],
      "text/plain": [
       "                           stars\n",
       "business_id                     \n",
       "--6MefnULPED_I942VcFNA  3.135135\n",
       "--7zmmkVg-IMGaXbuVd0SQ  3.851064\n",
       "--8LPVSo5i0Oo61X01sV9A  4.333333\n",
       "--9QQLMTbFzLJ_oT-ON3Xw  3.363636\n",
       "--9e1ONYQuAa-CB_Rrw7Tw  4.088904"
      ]
     },
     "execution_count": 6,
     "metadata": {},
     "output_type": "execute_result"
    }
   ],
   "source": [
    "bid_stars_means.head()"
   ]
  },
  {
   "cell_type": "code",
   "execution_count": 8,
   "metadata": {
    "ExecuteTime": {
     "end_time": "2018-07-26T15:34:51.231917Z",
     "start_time": "2018-07-26T15:33:36.689539Z"
    }
   },
   "outputs": [],
   "source": [
    "bid_stars_len = pd.read_sql(\"\"\" SELECT business_id, stars, length(text),useful,funny,cool FROM review\"\"\", engine)"
   ]
  },
  {
   "cell_type": "code",
   "execution_count": 9,
   "metadata": {
    "ExecuteTime": {
     "end_time": "2018-07-26T15:34:53.588539Z",
     "start_time": "2018-07-26T15:34:51.234272Z"
    }
   },
   "outputs": [],
   "source": [
    "bid_mean = bid_stars_len.groupby('business_id').mean()"
   ]
  },
  {
   "cell_type": "code",
   "execution_count": 10,
   "metadata": {
    "ExecuteTime": {
     "end_time": "2018-07-26T15:34:53.602359Z",
     "start_time": "2018-07-26T15:34:53.591347Z"
    }
   },
   "outputs": [
    {
     "data": {
      "text/html": [
       "<div>\n",
       "<style scoped>\n",
       "    .dataframe tbody tr th:only-of-type {\n",
       "        vertical-align: middle;\n",
       "    }\n",
       "\n",
       "    .dataframe tbody tr th {\n",
       "        vertical-align: top;\n",
       "    }\n",
       "\n",
       "    .dataframe thead th {\n",
       "        text-align: right;\n",
       "    }\n",
       "</style>\n",
       "<table border=\"1\" class=\"dataframe\">\n",
       "  <thead>\n",
       "    <tr style=\"text-align: right;\">\n",
       "      <th></th>\n",
       "      <th>stars</th>\n",
       "      <th>length(text)</th>\n",
       "      <th>useful</th>\n",
       "      <th>funny</th>\n",
       "      <th>cool</th>\n",
       "    </tr>\n",
       "    <tr>\n",
       "      <th>business_id</th>\n",
       "      <th></th>\n",
       "      <th></th>\n",
       "      <th></th>\n",
       "      <th></th>\n",
       "      <th></th>\n",
       "    </tr>\n",
       "  </thead>\n",
       "  <tbody>\n",
       "    <tr>\n",
       "      <th>--6MefnULPED_I942VcFNA</th>\n",
       "      <td>3.135135</td>\n",
       "      <td>796.513514</td>\n",
       "      <td>1.351351</td>\n",
       "      <td>0.702703</td>\n",
       "      <td>0.864865</td>\n",
       "    </tr>\n",
       "    <tr>\n",
       "      <th>--7zmmkVg-IMGaXbuVd0SQ</th>\n",
       "      <td>3.851064</td>\n",
       "      <td>545.127660</td>\n",
       "      <td>1.574468</td>\n",
       "      <td>0.510638</td>\n",
       "      <td>1.000000</td>\n",
       "    </tr>\n",
       "    <tr>\n",
       "      <th>--8LPVSo5i0Oo61X01sV9A</th>\n",
       "      <td>4.333333</td>\n",
       "      <td>466.333333</td>\n",
       "      <td>3.000000</td>\n",
       "      <td>0.000000</td>\n",
       "      <td>0.000000</td>\n",
       "    </tr>\n",
       "    <tr>\n",
       "      <th>--9QQLMTbFzLJ_oT-ON3Xw</th>\n",
       "      <td>3.363636</td>\n",
       "      <td>471.363636</td>\n",
       "      <td>0.727273</td>\n",
       "      <td>0.272727</td>\n",
       "      <td>0.363636</td>\n",
       "    </tr>\n",
       "    <tr>\n",
       "      <th>--9e1ONYQuAa-CB_Rrw7Tw</th>\n",
       "      <td>4.088904</td>\n",
       "      <td>818.049621</td>\n",
       "      <td>1.070986</td>\n",
       "      <td>0.587870</td>\n",
       "      <td>0.712612</td>\n",
       "    </tr>\n",
       "  </tbody>\n",
       "</table>\n",
       "</div>"
      ],
      "text/plain": [
       "                           stars  length(text)    useful     funny      cool\n",
       "business_id                                                                 \n",
       "--6MefnULPED_I942VcFNA  3.135135    796.513514  1.351351  0.702703  0.864865\n",
       "--7zmmkVg-IMGaXbuVd0SQ  3.851064    545.127660  1.574468  0.510638  1.000000\n",
       "--8LPVSo5i0Oo61X01sV9A  4.333333    466.333333  3.000000  0.000000  0.000000\n",
       "--9QQLMTbFzLJ_oT-ON3Xw  3.363636    471.363636  0.727273  0.272727  0.363636\n",
       "--9e1ONYQuAa-CB_Rrw7Tw  4.088904    818.049621  1.070986  0.587870  0.712612"
      ]
     },
     "execution_count": 10,
     "metadata": {},
     "output_type": "execute_result"
    }
   ],
   "source": [
    "bid_mean.head()"
   ]
  },
  {
   "cell_type": "code",
   "execution_count": 11,
   "metadata": {
    "ExecuteTime": {
     "end_time": "2018-07-26T15:34:55.316725Z",
     "start_time": "2018-07-26T15:34:53.604597Z"
    }
   },
   "outputs": [
    {
     "data": {
      "text/plain": [
       "<matplotlib.collections.PathCollection at 0x1c2a7c9198>"
      ]
     },
     "execution_count": 11,
     "metadata": {},
     "output_type": "execute_result"
    },
    {
     "data": {
      "image/png": "[encoded data removed]",
      "text/plain": [
       "<Figure size 432x288 with 1 Axes>"
      ]
     },
     "metadata": {},
     "output_type": "display_data"
    }
   ],
   "source": [
    "plt.scatter(bid_mean['stars'],bid_mean['length(text)'])"
   ]
  },
  {
   "cell_type": "code",
   "execution_count": 12,
   "metadata": {
    "ExecuteTime": {
     "end_time": "2018-07-26T15:34:55.830460Z",
     "start_time": "2018-07-26T15:34:55.318940Z"
    }
   },
   "outputs": [],
   "source": [
    "mean_len_star = bid_stars_len.groupby('stars').mean()"
   ]
  },
  {
   "cell_type": "code",
   "execution_count": 13,
   "metadata": {
    "ExecuteTime": {
     "end_time": "2018-07-26T15:34:55.837659Z",
     "start_time": "2018-07-26T15:34:55.832594Z"
    }
   },
   "outputs": [
    {
     "data": {
      "text/plain": [
       "stars\n",
       "1    764.136689\n",
       "2    769.220713\n",
       "3    716.226290\n",
       "4    631.459630\n",
       "5    492.835890\n",
       "Name: length(text), dtype: float64"
      ]
     },
     "execution_count": 13,
     "metadata": {},
     "output_type": "execute_result"
    }
   ],
   "source": [
    "mean_len_star['length(text)']"
   ]
  },
  {
   "cell_type": "code",
   "execution_count": 14,
   "metadata": {
    "ExecuteTime": {
     "end_time": "2018-07-26T15:35:03.088083Z",
     "start_time": "2018-07-26T15:34:55.839991Z"
    }
   },
   "outputs": [],
   "source": [
    "users = pd.read_sql(\"\"\" SELECT id, review_count, average_stars, useful, funny, cool FROM user\"\"\", engine)"
   ]
  },
  {
   "cell_type": "code",
   "execution_count": 15,
   "metadata": {
    "ExecuteTime": {
     "end_time": "2018-07-26T15:35:03.647816Z",
     "start_time": "2018-07-26T15:35:03.091159Z"
    }
   },
   "outputs": [],
   "source": [
    "review_response = bid_stars_len.groupby('stars').sum()\n"
   ]
  },
  {
   "cell_type": "code",
   "execution_count": 16,
   "metadata": {
    "ExecuteTime": {
     "end_time": "2018-07-26T15:35:03.658530Z",
     "start_time": "2018-07-26T15:35:03.650141Z"
    }
   },
   "outputs": [
    {
     "data": {
      "text/html": [
       "<div>\n",
       "<style scoped>\n",
       "    .dataframe tbody tr th:only-of-type {\n",
       "        vertical-align: middle;\n",
       "    }\n",
       "\n",
       "    .dataframe tbody tr th {\n",
       "        vertical-align: top;\n",
       "    }\n",
       "\n",
       "    .dataframe thead th {\n",
       "        text-align: right;\n",
       "    }\n",
       "</style>\n",
       "<table border=\"1\" class=\"dataframe\">\n",
       "  <thead>\n",
       "    <tr style=\"text-align: right;\">\n",
       "      <th></th>\n",
       "      <th>length(text)</th>\n",
       "      <th>useful</th>\n",
       "      <th>funny</th>\n",
       "      <th>cool</th>\n",
       "    </tr>\n",
       "    <tr>\n",
       "      <th>stars</th>\n",
       "      <th></th>\n",
       "      <th></th>\n",
       "      <th></th>\n",
       "      <th></th>\n",
       "    </tr>\n",
       "  </thead>\n",
       "  <tbody>\n",
       "    <tr>\n",
       "      <th>1</th>\n",
       "      <td>558861301</td>\n",
       "      <td>1616952</td>\n",
       "      <td>517287</td>\n",
       "      <td>204448</td>\n",
       "    </tr>\n",
       "    <tr>\n",
       "      <th>2</th>\n",
       "      <td>337042517</td>\n",
       "      <td>712279</td>\n",
       "      <td>292800</td>\n",
       "      <td>182066</td>\n",
       "    </tr>\n",
       "    <tr>\n",
       "      <th>3</th>\n",
       "      <td>440823673</td>\n",
       "      <td>825371</td>\n",
       "      <td>378463</td>\n",
       "      <td>397658</td>\n",
       "    </tr>\n",
       "    <tr>\n",
       "      <th>4</th>\n",
       "      <td>772474669</td>\n",
       "      <td>1651213</td>\n",
       "      <td>694321</td>\n",
       "      <td>1008809</td>\n",
       "    </tr>\n",
       "    <tr>\n",
       "      <th>5</th>\n",
       "      <td>1110530768</td>\n",
       "      <td>2482043</td>\n",
       "      <td>796350</td>\n",
       "      <td>1290839</td>\n",
       "    </tr>\n",
       "  </tbody>\n",
       "</table>\n",
       "</div>"
      ],
      "text/plain": [
       "       length(text)   useful   funny     cool\n",
       "stars                                        \n",
       "1         558861301  1616952  517287   204448\n",
       "2         337042517   712279  292800   182066\n",
       "3         440823673   825371  378463   397658\n",
       "4         772474669  1651213  694321  1008809\n",
       "5        1110530768  2482043  796350  1290839"
      ]
     },
     "execution_count": 16,
     "metadata": {},
     "output_type": "execute_result"
    }
   ],
   "source": [
    "review_response.head()"
   ]
  },
  {
   "cell_type": "code",
   "execution_count": 18,
   "metadata": {
    "ExecuteTime": {
     "end_time": "2018-07-26T15:35:19.264439Z",
     "start_time": "2018-07-26T15:35:19.254044Z"
    }
   },
   "outputs": [
    {
     "data": {
      "text/html": [
       "<div>\n",
       "<style scoped>\n",
       "    .dataframe tbody tr th:only-of-type {\n",
       "        vertical-align: middle;\n",
       "    }\n",
       "\n",
       "    .dataframe tbody tr th {\n",
       "        vertical-align: top;\n",
       "    }\n",
       "\n",
       "    .dataframe thead th {\n",
       "        text-align: right;\n",
       "    }\n",
       "</style>\n",
       "<table border=\"1\" class=\"dataframe\">\n",
       "  <thead>\n",
       "    <tr style=\"text-align: right;\">\n",
       "      <th></th>\n",
       "      <th>id</th>\n",
       "      <th>review_count</th>\n",
       "      <th>average_stars</th>\n",
       "      <th>useful</th>\n",
       "      <th>funny</th>\n",
       "      <th>cool</th>\n",
       "    </tr>\n",
       "  </thead>\n",
       "  <tbody>\n",
       "    <tr>\n",
       "      <th>0</th>\n",
       "      <td>---1lKK3aKOuomHnwAkAow</td>\n",
       "      <td>246</td>\n",
       "      <td>3.96</td>\n",
       "      <td>67</td>\n",
       "      <td>22</td>\n",
       "      <td>9</td>\n",
       "    </tr>\n",
       "    <tr>\n",
       "      <th>1</th>\n",
       "      <td>---94vtJ_5o_nikEs6hUjg</td>\n",
       "      <td>2</td>\n",
       "      <td>5.00</td>\n",
       "      <td>0</td>\n",
       "      <td>0</td>\n",
       "      <td>0</td>\n",
       "    </tr>\n",
       "    <tr>\n",
       "      <th>2</th>\n",
       "      <td>---cu1hq55BP9DWVXXKHZg</td>\n",
       "      <td>57</td>\n",
       "      <td>3.79</td>\n",
       "      <td>34</td>\n",
       "      <td>14</td>\n",
       "      <td>0</td>\n",
       "    </tr>\n",
       "    <tr>\n",
       "      <th>3</th>\n",
       "      <td>---fhiwiwBYrvqhpXgcWDQ</td>\n",
       "      <td>8</td>\n",
       "      <td>2.78</td>\n",
       "      <td>2</td>\n",
       "      <td>3</td>\n",
       "      <td>1</td>\n",
       "    </tr>\n",
       "    <tr>\n",
       "      <th>4</th>\n",
       "      <td>---PLwSf5gKdIoVnyRHgBA</td>\n",
       "      <td>2</td>\n",
       "      <td>4.00</td>\n",
       "      <td>1</td>\n",
       "      <td>0</td>\n",
       "      <td>0</td>\n",
       "    </tr>\n",
       "  </tbody>\n",
       "</table>\n",
       "</div>"
      ],
      "text/plain": [
       "                       id  review_count  average_stars  useful  funny  cool\n",
       "0  ---1lKK3aKOuomHnwAkAow           246           3.96      67     22     9\n",
       "1  ---94vtJ_5o_nikEs6hUjg             2           5.00       0      0     0\n",
       "2  ---cu1hq55BP9DWVXXKHZg            57           3.79      34     14     0\n",
       "3  ---fhiwiwBYrvqhpXgcWDQ             8           2.78       2      3     1\n",
       "4  ---PLwSf5gKdIoVnyRHgBA             2           4.00       1      0     0"
      ]
     },
     "execution_count": 18,
     "metadata": {},
     "output_type": "execute_result"
    }
   ],
   "source": [
    "users.head()"
   ]
  },
  {
   "cell_type": "code",
   "execution_count": 19,
   "metadata": {
    "ExecuteTime": {
     "end_time": "2018-07-26T15:35:19.773165Z",
     "start_time": "2018-07-26T15:35:19.752732Z"
    }
   },
   "outputs": [
    {
     "data": {
      "text/plain": [
       "23.11716151333873"
      ]
     },
     "execution_count": 19,
     "metadata": {},
     "output_type": "execute_result"
    }
   ],
   "source": [
    "np.median(users['review_count'])\n",
    "np.mean(users['review_count'])"
   ]
  },
  {
   "cell_type": "code",
   "execution_count": 53,
   "metadata": {
    "ExecuteTime": {
     "end_time": "2018-07-26T19:44:27.250854Z",
     "start_time": "2018-07-26T19:44:26.965284Z"
    }
   },
   "outputs": [
    {
     "data": {
      "image/png": "[encoded data removed]",
      "text/plain": [
       "<Figure size 720x576 with 1 Axes>"
      ]
     },
     "metadata": {},
     "output_type": "display_data"
    }
   ],
   "source": [
    "plt.bar(bid_stars['stars'].value_counts().index,bid_stars['stars'].value_counts(), color = '#f03b20')\n",
    "plt.xlabel('Stars')\n",
    "plt.ylabel('Ratings')\n",
    "plt.title('Stars by Number of Ratings')\n",
    "plt.grid()\n",
    "plt.show();"
   ]
  },
  {
   "cell_type": "code",
   "execution_count": 52,
   "metadata": {
    "ExecuteTime": {
     "end_time": "2018-07-26T19:44:26.963041Z",
     "start_time": "2018-07-26T19:44:26.797509Z"
    }
   },
   "outputs": [
    {
     "data": {
      "image/png": "[encoded data removed]",
      "text/plain": [
       "<Figure size 720x576 with 1 Axes>"
      ]
     },
     "metadata": {},
     "output_type": "display_data"
    }
   ],
   "source": [
    "plt.bar(mean_len_star.index,mean_len_star['length(text)'], color = '#f03b20')\n",
    "plt.xlabel('Stars')\n",
    "plt.ylabel('Length of Review (in characters)')\n",
    "plt.title('Stars by Average Review Length')\n",
    "plt.grid()\n",
    "plt.show();"
   ]
  },
  {
   "cell_type": "code",
   "execution_count": 49,
   "metadata": {
    "ExecuteTime": {
     "end_time": "2018-07-26T19:44:14.901118Z",
     "start_time": "2018-07-26T19:44:14.635830Z"
    }
   },
   "outputs": [
    {
     "data": {
      "image/png": "[encoded data removed]",
      "text/plain": [
       "<Figure size 720x576 with 1 Axes>"
      ]
     },
     "metadata": {},
     "output_type": "display_data"
    }
   ],
   "source": [
    "plt.hist(np.log(users['review_count']+1),bins = 50, color = '#f03b20');\n",
    "plt.xlabel('log of review count')\n",
    "plt.title('User Review Count')\n",
    "plt.grid()\n",
    "plt.show();"
   ]
  },
  {
   "cell_type": "code",
   "execution_count": 57,
   "metadata": {
    "ExecuteTime": {
     "end_time": "2018-07-26T19:48:54.755087Z",
     "start_time": "2018-07-26T19:48:52.766684Z"
    }
   },
   "outputs": [
    {
     "data": {
      "image/png": "[encoded data removed]",
      "text/plain": [
       "<Figure size 720x576 with 1 Axes>"
      ]
     },
     "metadata": {},
     "output_type": "display_data"
    }
   ],
   "source": [
    "plt.hist(np.log(bid_stars_len['business_id'].value_counts()), bins = 50, color = '#f03b20')\n",
    "plt.xlabel('log of eview count')\n",
    "plt.title('Business Review Count')\n",
    "plt.grid()\n",
    "plt.show();"
   ]
  },
  {
   "cell_type": "code",
   "execution_count": 51,
   "metadata": {
    "ExecuteTime": {
     "end_time": "2018-07-26T19:44:26.795268Z",
     "start_time": "2018-07-26T19:44:16.967160Z"
    }
   },
   "outputs": [
    {
     "data": {
      "image/png": "[encoded data removed]",
      "text/plain": [
       "<Figure size 720x576 with 1 Axes>"
      ]
     },
     "metadata": {},
     "output_type": "display_data"
    }
   ],
   "source": [
    "plt.scatter(users['average_stars'],users['review_count'], color = '#f03b20')\n",
    "plt.xlabel('Average Stars')\n",
    "plt.ylabel('Review Count')\n",
    "plt.title('User Review Count by Average Stars')\n",
    "plt.grid()\n",
    "plt.show();"
   ]
  },
  {
   "cell_type": "code",
   "execution_count": 48,
   "metadata": {
    "ExecuteTime": {
     "end_time": "2018-07-26T19:44:14.633358Z",
     "start_time": "2018-07-26T19:43:34.689123Z"
    }
   },
   "outputs": [
    {
     "data": {
      "image/png": "[encoded data removed]",
      "text/plain": [
       "<Figure size 720x576 with 1 Axes>"
      ]
     },
     "metadata": {},
     "output_type": "display_data"
    }
   ],
   "source": [
    "plt.scatter(bid_stars_len['length(text)'],bid_stars_len['useful'], color = '#f03b20')\n",
    "plt.xlabel('Review Length')\n",
    "plt.ylabel('Useful ratings')\n",
    "plt.title('Usefulness by Review Length')\n",
    "plt.grid()\n",
    "plt.show();"
   ]
  },
  {
   "cell_type": "code",
   "execution_count": 47,
   "metadata": {
    "ExecuteTime": {
     "end_time": "2018-07-26T19:43:18.512693Z",
     "start_time": "2018-07-26T19:43:18.306071Z"
    }
   },
   "outputs": [
    {
     "data": {
      "image/png": "[encoded data removed]",
      "text/plain": [
       "<Figure size 720x576 with 1 Axes>"
      ]
     },
     "metadata": {},
     "output_type": "display_data"
    }
   ],
   "source": [
    "fig, ax = plt.subplots()\n",
    "index = np.arange(5)\n",
    "bar_width = 0.25\n",
    "opacity = 0.8\n",
    " \n",
    "rects1 = plt.bar(index, review_response['useful'], bar_width,\n",
    "                 alpha=opacity,\n",
    "                 color='#ffeda0',\n",
    "                 label='useful')\n",
    " \n",
    "rects2 = plt.bar(index + bar_width, review_response['cool'], bar_width,\n",
    "                 alpha=opacity,\n",
    "                 color='#feb24c',\n",
    "                 label='cool')\n",
    "\n",
    "rects3 = plt.bar(index + bar_width*2, review_response['funny'], bar_width,\n",
    "                 alpha=opacity,\n",
    "                 color='#f03b20',\n",
    "                 label='funny')\n",
    "\n",
    "plt.xlabel('Stars')\n",
    "plt.ylabel('Number of Ratings')\n",
    "plt.title('Review Ratings by Star')\n",
    "plt.xticks(index + bar_width, ('1', '2', '3', '4','5'))\n",
    "plt.legend()\n",
    "plt.grid()\n",
    " \n",
    "plt.tight_layout()\n",
    "plt.show()"
   ]
  },
  {
   "cell_type": "markdown",
   "metadata": {},
   "source": [
    "## Making Predictions"
   ]
  },
  {
   "cell_type": "markdown",
   "metadata": {},
   "source": [
    "### Parts of Speech Tagging\n",
    "\n",
    "- First abstract parts of speech from reviews counting each occurrence\n",
    "- Use category counts\n",
    "- More generalizable across languages\n",
    "- More interpretable results"
   ]
  },
  {
   "cell_type": "code",
   "execution_count": 14,
   "metadata": {
    "ExecuteTime": {
     "end_time": "2018-08-24T01:43:40.034481Z",
     "start_time": "2018-08-24T01:43:39.091602Z"
    }
   },
   "outputs": [],
   "source": [
    "import nltk"
   ]
  },
  {
   "cell_type": "code",
   "execution_count": 76,
   "metadata": {
    "ExecuteTime": {
     "end_time": "2018-08-24T03:26:21.296352Z",
     "start_time": "2018-08-24T03:26:21.012092Z"
    }
   },
   "outputs": [],
   "source": [
    "subX2 = subX.reset_index()\n",
    "suby2 = suby.reset_index()"
   ]
  },
  {
   "cell_type": "code",
   "execution_count": 80,
   "metadata": {
    "ExecuteTime": {
     "end_time": "2018-08-24T03:28:19.827113Z",
     "start_time": "2018-08-24T03:28:19.806394Z"
    }
   },
   "outputs": [],
   "source": [
    "tokened = nltk.pos_tag(nltk.word_tokenize(subX2['text'][0]))"
   ]
  },
  {
   "cell_type": "code",
   "execution_count": null,
   "metadata": {
    "ExecuteTime": {
     "start_time": "2018-08-24T12:34:09.220Z"
    },
    "scrolled": true
   },
   "outputs": [],
   "source": [
    "pos_count = []\n",
    "for i in range(len(subX2['text'])):\n",
    "    tokened = nltk.pos_tag(nltk.word_tokenize(subX2['text'][i]))\n",
    "    tags = [b[1] for b in tokened]\n",
    "    fd = nltk.FreqDist(tags)\n",
    "    pos_count.append(dict(fd))\n",
    "    if i%5000==0:\n",
    "        print(f'done {i}')"
   ]
  },
  {
   "cell_type": "code",
   "execution_count": 86,
   "metadata": {
    "ExecuteTime": {
     "end_time": "2018-08-24T04:30:41.721331Z",
     "start_time": "2018-08-24T04:30:35.546891Z"
    }
   },
   "outputs": [],
   "source": [
    "tagged = pd.DataFrame(pos_count)"
   ]
  },
  {
   "cell_type": "code",
   "execution_count": 89,
   "metadata": {
    "ExecuteTime": {
     "end_time": "2018-08-24T04:31:45.235906Z",
     "start_time": "2018-08-24T04:31:45.229512Z"
    }
   },
   "outputs": [
    {
     "data": {
      "text/plain": [
       "Index(['#', '$', '''', '(', ')', ',', '.', ':', 'CC', 'CD', 'DT', 'EX', 'FW',\n",
       "       'IN', 'JJ', 'JJR', 'JJS', 'LS', 'MD', 'NN', 'NNP', 'NNPS', 'NNS', 'PDT',\n",
       "       'POS', 'PRP', 'PRP$', 'RB', 'RBR', 'RBS', 'RP', 'SYM', 'TO', 'UH', 'VB',\n",
       "       'VBD', 'VBG', 'VBN', 'VBP', 'VBZ', 'WDT', 'WP', 'WP$', 'WRB', '``'],\n",
       "      dtype='object')"
      ]
     },
     "execution_count": 89,
     "metadata": {},
     "output_type": "execute_result"
    }
   ],
   "source": [
    "tagged.columns"
   ]
  },
  {
   "cell_type": "code",
   "execution_count": 92,
   "metadata": {
    "ExecuteTime": {
     "end_time": "2018-08-24T04:34:27.612050Z",
     "start_time": "2018-08-24T04:34:27.484722Z"
    }
   },
   "outputs": [],
   "source": [
    "tagged = tagged.drop(columns=['#', '$', '\\'\\'', '(', ')', ',', '.', ':','``'])"
   ]
  },
  {
   "cell_type": "code",
   "execution_count": 97,
   "metadata": {
    "ExecuteTime": {
     "end_time": "2018-08-24T04:35:23.797259Z",
     "start_time": "2018-08-24T04:35:23.680408Z"
    }
   },
   "outputs": [],
   "source": [
    "tagged = tagged.fillna(0)"
   ]
  },
  {
   "cell_type": "code",
   "execution_count": null,
   "metadata": {},
   "outputs": [],
   "source": []
  },
  {
   "cell_type": "code",
   "execution_count": 62,
   "metadata": {
    "ExecuteTime": {
     "end_time": "2018-08-24T10:56:01.258566Z",
     "start_time": "2018-08-24T10:56:01.247759Z"
    }
   },
   "outputs": [],
   "source": [
    "from sklearn.naive_bayes import GaussianNB, MultinomialNB, BernoulliNB"
   ]
  },
  {
   "cell_type": "code",
   "execution_count": 63,
   "metadata": {
    "ExecuteTime": {
     "end_time": "2018-08-24T10:56:02.312832Z",
     "start_time": "2018-08-24T10:56:01.939369Z"
    }
   },
   "outputs": [
    {
     "data": {
      "text/plain": [
       "MultinomialNB(alpha=1.0, class_prior=None, fit_prior=True)"
      ]
     },
     "execution_count": 63,
     "metadata": {},
     "output_type": "execute_result"
    }
   ],
   "source": [
    "nbmodel = MultinomialNB()\n",
    "nbmodel.fit(train_tvectX, train_suby)"
   ]
  },
  {
   "cell_type": "code",
   "execution_count": 64,
   "metadata": {
    "ExecuteTime": {
     "end_time": "2018-08-24T10:56:02.900879Z",
     "start_time": "2018-08-24T10:56:02.823295Z"
    }
   },
   "outputs": [
    {
     "data": {
      "text/plain": [
       "0.6253587243666495"
      ]
     },
     "execution_count": 64,
     "metadata": {},
     "output_type": "execute_result"
    }
   ],
   "source": [
    "nbmodel.score(test_tvectX, test_suby)"
   ]
  },
  {
   "cell_type": "code",
   "execution_count": 133,
   "metadata": {
    "ExecuteTime": {
     "end_time": "2018-08-24T12:07:48.019974Z",
     "start_time": "2018-08-24T12:07:47.983540Z"
    }
   },
   "outputs": [],
   "source": [
    "import pickle\n",
    "filename = 'nbmodel.sav'\n",
    "pickle.dump(nbmodel, open(filename, 'wb'))"
   ]
  },
  {
   "cell_type": "code",
   "execution_count": 114,
   "metadata": {
    "ExecuteTime": {
     "end_time": "2018-08-24T11:25:42.956386Z",
     "start_time": "2018-08-24T11:25:42.768757Z"
    }
   },
   "outputs": [],
   "source": [
    "from sklearn.metrics import confusion_matrix\n",
    "nbconfusion = confusion_matrix(test_suby, nbmodel.predict(test_tvectX))"
   ]
  },
  {
   "cell_type": "code",
   "execution_count": 67,
   "metadata": {
    "ExecuteTime": {
     "end_time": "2018-08-24T10:56:19.225927Z",
     "start_time": "2018-08-24T10:56:19.222860Z"
    }
   },
   "outputs": [],
   "source": [
    "import seaborn as sns"
   ]
  },
  {
   "cell_type": "code",
   "execution_count": 130,
   "metadata": {
    "ExecuteTime": {
     "end_time": "2018-08-24T11:52:24.197058Z",
     "start_time": "2018-08-24T11:52:23.872625Z"
    }
   },
   "outputs": [
    {
     "data": {
      "image/png": "[encoded data removed]",
      "text/plain": [
       "<Figure size 1080x720 with 2 Axes>"
      ]
     },
     "metadata": {},
     "output_type": "display_data"
    }
   ],
   "source": [
    "ax2 = sns.heatmap(nbconfusion/nbconfusion.sum(axis=1)[:, np.newaxis], \n",
    "            xticklabels=range(1,6), yticklabels=range(1,6),annot=True)\n",
    "ax2.set(xlabel='True Values', ylabel='Predicted Values')\n",
    "ax2.set_title('Naive Bayes Model Confusion Matrix');"
   ]
  },
  {
   "cell_type": "code",
   "execution_count": null,
   "metadata": {},
   "outputs": [],
   "source": []
  }
 ],
 "metadata": {
  "kernelspec": {
   "display_name": "Python 3 (ipykernel)",
   "language": "python",
   "name": "python3"
  },
  "language_info": {
   "codemirror_mode": {
    "name": "ipython",
    "version": 3
   },
   "file_extension": ".py",
   "mimetype": "text/x-python",
   "name": "python",
   "nbconvert_exporter": "python",
   "pygments_lexer": "ipython3",
   "version": "3.9.11"
  },
  "varInspector": {
   "cols": {
    "lenName": 16,
    "lenType": 16,
    "lenVar": 40
   },
   "kernels_config": {
    "python": {
     "delete_cmd_postfix": "",
     "delete_cmd_prefix": "del ",
     "library": "var_list.py",
     "varRefreshCmd": "print(var_dic_list())"
    },
    "r": {
     "delete_cmd_postfix": ") ",
     "delete_cmd_prefix": "rm(",
     "library": "var_list.r",
     "varRefreshCmd": "cat(var_dic_list()) "
    }
   },
   "types_to_exclude": [
    "module",
    "function",
    "builtin_function_or_method",
    "instance",
    "_Feature"
   ],
   "window_display": false
  }
 },
 "nbformat": 4,
 "nbformat_minor": 2
}
